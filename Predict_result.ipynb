{
 "cells": [
  {
   "cell_type": "code",
   "execution_count": 1,
   "id": "e7cc2a23-3335-4cc1-b44f-84b32118a78c",
   "metadata": {},
   "outputs": [],
   "source": [
    "import pandas as pd\n",
    "import numpy as np\n",
    "import torch\n",
    "import torch.nn as nn\n",
    "import os\n",
    "from sklearn.preprocessing import StandardScaler"
   ]
  },
  {
   "cell_type": "code",
   "execution_count": 2,
   "id": "28a8ce68-6196-46b7-bea3-0bfbcf7efda8",
   "metadata": {},
   "outputs": [],
   "source": [
    "# GRUModel 클래스 정의\n",
    "class GRUModel(nn.Module):\n",
    "    def __init__(self, input_size, hidden_size, num_layers, output_size):\n",
    "        super(GRUModel, self).__init__()\n",
    "        self.hidden_size = hidden_size\n",
    "        self.num_layers = num_layers\n",
    "        self.gru = nn.GRU(input_size, hidden_size, num_layers, batch_first=True)\n",
    "        self.fc = nn.Linear(hidden_size, output_size)\n",
    "    \n",
    "    def forward(self, x):\n",
    "        out, _ = self.gru(x)\n",
    "        out = self.fc(out[:, -1, :])  # 마지막 타임스텝의 출력을 사용\n",
    "        return out\n",
    "\n",
    "# 초기화 파라미터 정의\n",
    "input_size = 9  # 사용한 컬럼 수\n",
    "hidden_size = 64\n",
    "num_layers = 1\n",
    "output_size = 25  # 출력 클래스 수"
   ]
  },
  {
   "cell_type": "code",
   "execution_count": 3,
   "id": "12f887f2-9d39-4481-9944-27ad83954cab",
   "metadata": {},
   "outputs": [
    {
     "data": {
      "text/plain": [
       "GRUModel(\n",
       "  (gru): GRU(9, 64, batch_first=True)\n",
       "  (fc): Linear(in_features=64, out_features=25, bias=True)\n",
       ")"
      ]
     },
     "execution_count": 3,
     "metadata": {},
     "output_type": "execute_result"
    }
   ],
   "source": [
    "# 모델 초기화\n",
    "model = GRUModel(input_size, hidden_size, num_layers, output_size)  # 필요한 파라미터로 모델 초기화\n",
    "\n",
    "# 가중치 불러오기\n",
    "model.load_state_dict(torch.load(r'C:\\Users\\csh16\\Desktop\\2024-2\\졸업프로젝트\\gru_model_weights.pth'))\n",
    "model.eval()  # 평가 모드로 전환"
   ]
  },
  {
   "cell_type": "code",
   "execution_count": 4,
   "id": "7a718ce0-ddb8-418e-825c-80ced7bf9a5d",
   "metadata": {},
   "outputs": [],
   "source": [
    "# 1. 소비 데이터 로드\n",
    "file_path = r\"C:\\Users\\csh16\\Desktop\\2024-2\\졸업프로젝트\\dataset\\정연주_240730_241030.csv\"\n",
    "data = pd.read_csv(file_path, encoding='euc-kr')\n",
    "\n",
    "# 2. 출금 금액의 쉼표 제거 및 float으로 변환\n",
    "data['출금'] = data['출금'].str.replace(',', '').astype(float)\n",
    "\n",
    "# 카테고리별 출금액 계산\n",
    "expense_categories = {\n",
    "    '이용금액_업종기준': data['출금'].sum(),\n",
    "    '이용금액_요식': data[data['카테고리'] == '요식']['출금'].sum(),\n",
    "    '이용금액_교육': data[data['카테고리'] == '교육']['출금'].sum(),\n",
    "    '여유_Pet이용금액': data[data['카테고리'] == '반려동물']['출금'].sum(),\n",
    "    '이용금액_여행': data[data['카테고리'] == '여행']['출금'].sum(),\n",
    "    '이용금액_자차': data[data['카테고리'] == '자차']['출금'].sum(),\n",
    "    '이용금액_대중교통': data[data['카테고리'] == '대중교통']['출금'].sum(),\n",
    "    '이용금액_여가활동': data[data['카테고리'] == '여가활동']['출금'].sum(),\n",
    "}\n",
    "\n",
    "# 3개월 치로 나누고 소수점 두 자리로 반올림\n",
    "expense_categories['이용금액_일상생활_총합'] = sum(expense_categories.values())\n",
    "for key in expense_categories:\n",
    "    expense_categories[key] = round(expense_categories[key] / 3, 2)\n",
    "\n",
    "# 소비 데이터 배열 생성\n",
    "consumer_data = np.array(list(expense_categories.values()))\n",
    "\n",
    "# PyTorch 텐서로 변환 및 차원 조정\n",
    "consumer_data_tensor = torch.tensor(consumer_data, dtype=torch.float32).unsqueeze(0).unsqueeze(0)\n",
    "\n",
    "# 결과 확인\n",
    "# print(\"Tensor:\", consumer_data_tensor)"
   ]
  },
  {
   "cell_type": "code",
   "execution_count": 5,
   "id": "9d9cffa3-4667-415a-a95e-b1662150a7b1",
   "metadata": {},
   "outputs": [],
   "source": [
    "# 모델 예측\n",
    "with torch.no_grad():\n",
    "    test_outputs = model(consumer_data_tensor)\n",
    "    _, predicted_label = torch.max(test_outputs, 1)\n",
    "\n",
    "predicted_label = predicted_label.item()\n",
    "\n",
    "# print(\"당신의 label은 \", predicted_label)"
   ]
  },
  {
   "cell_type": "code",
   "execution_count": 6,
   "id": "383c2029-25d3-42f5-8f75-eb18d480ee82",
   "metadata": {},
   "outputs": [],
   "source": [
    "carrier_file_paths = {\n",
    "    \"skt_요금제\": r\"C:\\Users\\csh16\\Desktop\\2024-2\\졸업프로젝트\\dataset\\skt_요금제.csv\",\n",
    "    \"kt_요금제\": r'C:\\Users\\csh16\\Desktop\\2024-2\\졸업프로젝트\\dataset\\kt_요금제.csv',\n",
    "    \"U+_요금제\": r'C:\\Users\\csh16\\Desktop\\2024-2\\졸업프로젝트\\dataset\\U+_요금제.csv'\n",
    "}"
   ]
  },
  {
   "cell_type": "code",
   "execution_count": 7,
   "id": "e3a9d02c-21e6-47c4-bf67-1e6d1853eedd",
   "metadata": {},
   "outputs": [],
   "source": [
    "# 통신사별 요금제 추천\n",
    "def get_plan_label(label):\n",
    "    plan_dict = {\n",
    "        0: \"U+_요금제\", # 반려동물\n",
    "        1: \"skt_요금제\", # 일상생활\n",
    "        2: \"U+_요금제\", # 여가\n",
    "        3: \"skt_요금제\", # 일상생활\n",
    "        4: \"kt_요금제\", # 주유\n",
    "        5: \"U+_요금제\", # 교육\n",
    "        6: \"skt_요금제\", # 여행\n",
    "        7: \"skt_요금제\", # 일상생활\n",
    "        8: \"skt_요금제\", # 일상생활\n",
    "        9: \"skt_요금제\", # 일상생활\n",
    "        10: \"U+_요금제\", # 교육\n",
    "        11: \"skt_요금제\", # 여가\n",
    "        12: \"skt_요금제\", # 일상생활\n",
    "        13: \"kt_요금제\", # 주유\n",
    "        14: \"skt_요금제\", # 일상생활\n",
    "        15: \"skt_요금제\", # 일상생활\n",
    "        16: \"skt_요금제\", # 일상생활\n",
    "        17: \"U+_요금제\", # 교육\n",
    "        18: \"skt_요금제\", # 일상 생활\n",
    "        19: \"skt_요금제\", # 여가\n",
    "        20: \"skt_요금제\", # 반려동물\n",
    "        21: \"kt_요금제\", # 교통비\n",
    "        22: \"skt_요금제\", # 일상생활\n",
    "        23: \"skt_요금제\", # 일상생활\n",
    "        24: \"skt_요금제\" # 일상생활\n",
    "    }\n",
    "\n",
    "    carrier_label = plan_dict.get(label, \"알 수 없는 요금제\")\n",
    "    return carrier_file_paths.get(carrier_label)"
   ]
  },
  {
   "cell_type": "code",
   "execution_count": 18,
   "id": "0e369e1b-c365-4551-869e-5b5c447f2dd6",
   "metadata": {},
   "outputs": [],
   "source": [
    "def find_similar_plan(plans, current_payment, top_n=5):\n",
    "    # Ensure '월정액' is in numeric format (if it was not converted before)\n",
    "    plans['월정액'] = pd.to_numeric(plans['월정액'], errors='coerce')  # Convert to numeric, just in case\n",
    "\n",
    "    # Remove rows with NaN values in '월정액'\n",
    "    plans = plans.dropna(subset=['월정액'])\n",
    "    \n",
    "    # Calculate price difference\n",
    "    plans['가격_차이'] = (plans['월정액'] - current_payment).abs()\n",
    "    \n",
    "    # Filter plans within 10,000 won range\n",
    "    plans_within_range = plans[plans['가격_차이'] <= 10000]\n",
    "    \n",
    "    # Select top_n plans with the smallest price differences\n",
    "    similar_plans = plans_within_range.nsmallest(top_n, '가격_차이')\n",
    "    \n",
    "    return similar_plans['요금제 이름']  # Only return the '요금제 이름' column\n"
   ]
  },
  {
   "cell_type": "code",
   "execution_count": 19,
   "id": "c33a2bb8-6872-4ede-8823-8bd3bd30cd1f",
   "metadata": {},
   "outputs": [],
   "source": [
    "def recommend_plan(label, user_payment):\n",
    "    file_path = get_plan_label(label)  # Assume this function returns the correct file path\n",
    "    if file_path:\n",
    "        # Check if the file exists\n",
    "        if os.path.exists(file_path):\n",
    "            plans_df = pd.read_csv(file_path, encoding='utf-8')  # Load with UTF-8 encoding\n",
    "            \n",
    "            # Remove the print statement to avoid displaying the DataFrame\n",
    "            # print(\"Loaded Plans DataFrame:\")\n",
    "            # print(plans_df.head())\n",
    "            \n",
    "            recommended_plans = find_similar_plan(plans_df, user_payment)\n",
    "\n",
    "            if not recommended_plans.empty:\n",
    "                print(\"추천 요금제:\")\n",
    "                for plan in recommended_plans:\n",
    "                    print(plan)\n",
    "            else:\n",
    "                print(\"추천할 요금제가 없습니다.\")\n",
    "        else:\n",
    "            print(f\"The file {file_path} does not exist.\")"
   ]
  },
  {
   "cell_type": "code",
   "execution_count": 20,
   "id": "f87717d4-4c7a-418d-89ce-f1a0f9c8a533",
   "metadata": {},
   "outputs": [
    {
     "name": "stdin",
     "output_type": "stream",
     "text": [
      "Enter your payment amount:  69000\n"
     ]
    },
    {
     "name": "stdout",
     "output_type": "stream",
     "text": [
      "추천 요금제:\n",
      "다이렉트5G 69(넷플릭스)\n",
      "0 청년 다이렉트 69(넷플릭스)\n",
      "5GX 레귤러\n",
      "0 청년 69\n",
      "5G 행복누리 레귤러\n",
      "                                \n",
      "                                  복지\n"
     ]
    }
   ],
   "source": [
    "# 예시 사용\n",
    "user_payment = float(input(\"Enter your payment amount: \"))\n",
    "recommend_plan(predicted_label, user_payment)"
   ]
  },
  {
   "cell_type": "code",
   "execution_count": 9,
   "id": "a274f277-0415-4ae6-be29-79013cb929ff",
   "metadata": {},
   "outputs": [
    {
     "name": "stdout",
     "output_type": "stream",
     "text": [
      "Updated file saved to C:\\Users\\csh16\\Desktop\\2024-2\\졸업프로젝트\\dataset\\cluster_with_labels_recommendations.csv\n"
     ]
    }
   ],
   "source": [
    "import pandas as pd\n",
    "import os\n",
    "\n",
    "# Define file paths for each carrier\n",
    "carrier_file_paths = {\n",
    "    \"skt_요금제\": r\"C:\\Users\\csh16\\Desktop\\2024-2\\졸업프로젝트\\dataset\\skt_요금제.csv\",\n",
    "    \"kt_요금제\": r\"C:\\Users\\csh16\\Desktop\\2024-2\\졸업프로젝트\\dataset\\kt_요금제.csv\",\n",
    "    \"U+_요금제\": r\"C:\\Users\\csh16\\Desktop\\2024-2\\졸업프로젝트\\dataset\\U+_요금제.csv\"\n",
    "}\n",
    "\n",
    "# Map labels to carriers\n",
    "def get_plan_label(label):\n",
    "    plan_dict = {\n",
    "        0: \"U+_요금제\", 1: \"skt_요금제\", 2: \"U+_요금제\", 3: \"skt_요금제\",\n",
    "        4: \"kt_요금제\", 5: \"U+_요금제\", 6: \"skt_요금제\", 7: \"skt_요금제\",\n",
    "        8: \"skt_요금제\", 9: \"skt_요금제\", 10: \"U+_요금제\", 11: \"skt_요금제\",\n",
    "        12: \"skt_요금제\", 13: \"kt_요금제\", 14: \"skt_요금제\", 15: \"skt_요금제\",\n",
    "        16: \"skt_요금제\", 17: \"U+_요금제\", 18: \"skt_요금제\", 19: \"skt_요금제\",\n",
    "        20: \"skt_요금제\", 21: \"kt_요금제\", 22: \"skt_요금제\", 23: \"skt_요금제\",\n",
    "        24: \"skt_요금제\"\n",
    "    }\n",
    "    return plan_dict.get(label, \"알 수 없는 요금제\")\n",
    "\n",
    "# Find similar plans within a price range\n",
    "def find_similar_plan(plans, current_payment, top_n=3):\n",
    "    # Ensure '월정액' is in numeric format\n",
    "    plans['월정액'] = pd.to_numeric(plans['월정액'], errors='coerce')\n",
    "    plans = plans.dropna(subset=['월정액'])  # Drop rows with NaN values\n",
    "    \n",
    "    # Calculate price difference\n",
    "    plans['가격_차이'] = (plans['월정액'] - current_payment).abs()\n",
    "    \n",
    "    # Filter plans within 10,000 won range\n",
    "    plans_within_range = plans[plans['가격_차이'] <= 10000]\n",
    "    \n",
    "    # Select top_n plans with the smallest price differences\n",
    "    similar_plans = plans_within_range.nsmallest(top_n, '가격_차이')\n",
    "    \n",
    "    return similar_plans['요금제 이름']\n",
    "\n",
    "# Main function to handle multiple users and save results\n",
    "def recommend_plans_for_all_users(cluster_file_path, output_file_path):\n",
    "    # Load user data\n",
    "    users_df = pd.read_csv(cluster_file_path, encoding='utf-8')\n",
    "    \n",
    "    # Add columns for recommended carrier and plans\n",
    "    users_df['recommend_carrier'] = \"\"\n",
    "    users_df['recommend_plans'] = \"\"\n",
    "    \n",
    "    # Process each user row\n",
    "    for idx, row in users_df.iterrows():\n",
    "        label = row['Cluster']\n",
    "        user_payment = row['납부_통신비이용금액']\n",
    "        \n",
    "        # Determine the carrier based on the label\n",
    "        carrier_label = get_plan_label(label)\n",
    "        file_path = carrier_file_paths.get(carrier_label)\n",
    "        \n",
    "        if file_path and os.path.exists(file_path):\n",
    "            # Load the corresponding carrier plans\n",
    "            plans_df = pd.read_csv(file_path, encoding='utf-8')\n",
    "            recommended_plans = find_similar_plan(plans_df, user_payment)\n",
    "            \n",
    "            # Update the user DataFrame\n",
    "            users_df.at[idx, 'recommend_carrier'] = carrier_label\n",
    "            users_df.at[idx, 'recommend_plans'] = \", \".join(recommended_plans) if not recommended_plans.empty else \"추천할 요금제 없음\"\n",
    "        else:\n",
    "            users_df.at[idx, 'recommend_carrier'] = \"파일 없음\"\n",
    "            users_df.at[idx, 'recommend_plans'] = \"파일 없음\"\n",
    "\n",
    "    # Save the updated DataFrame\n",
    "    users_df.to_csv(output_file_path, index=False, encoding='utf-8')\n",
    "    print(f\"Updated file saved to {output_file_path}\")\n",
    "\n",
    "# Execute the recommendation process\n",
    "recommend_plans_for_all_users(\n",
    "    r\"C:\\Users\\csh16\\Desktop\\2024-2\\졸업프로젝트\\dataset\\cluster_with_labels_modified.csv\",\n",
    "    r\"C:\\Users\\csh16\\Desktop\\2024-2\\졸업프로젝트\\dataset\\cluster_with_labels_recommendations.csv\"\n",
    ")\n"
   ]
  },
  {
   "cell_type": "code",
   "execution_count": null,
   "id": "eeaf452e-dc2a-44c5-ae65-1ec178857ade",
   "metadata": {},
   "outputs": [],
   "source": []
  }
 ],
 "metadata": {
  "kernelspec": {
   "display_name": "Python 3 (ipykernel)",
   "language": "python",
   "name": "python3"
  },
  "language_info": {
   "codemirror_mode": {
    "name": "ipython",
    "version": 3
   },
   "file_extension": ".py",
   "mimetype": "text/x-python",
   "name": "python",
   "nbconvert_exporter": "python",
   "pygments_lexer": "ipython3",
   "version": "3.10.8"
  }
 },
 "nbformat": 4,
 "nbformat_minor": 5
}
