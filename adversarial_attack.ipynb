{
 "cells": [
  {
   "cell_type": "code",
   "execution_count": 16,
   "id": "ef0bbd64-6ee6-4d4a-8750-a9c908c13931",
   "metadata": {},
   "outputs": [],
   "source": [
    "import torch\n",
    "import torch.nn as nn\n",
    "import torch.optim as optim\n",
    "import pandas as pd\n",
    "from sklearn.preprocessing import StandardScaler"
   ]
  },
  {
   "cell_type": "code",
   "execution_count": 10,
   "id": "a77ee980-a21e-4051-9d50-a98cfc10068c",
   "metadata": {},
   "outputs": [],
   "source": [
    "# 데이터 로드\n",
    "\n",
    "data_path = r'C:\\Users\\csh16\\Desktop\\2024-2\\졸업프로젝트\\dataset\\cluster_with_labels_modified.csv'\n",
    "df = pd.read_csv(data_path, encoding='utf-8')\n",
    "\n",
    "# '이용금액_업종기준', '이용금액_요식', '이용금액_교육', '여유_Pet이용금액', '이용금액_여행', '이용금액_자차',\n",
    "# '이용금액_대중교통', '이용금액_여가활동', '이용금액_일상생활_총합' 컬럼만 사용\n",
    "data_columns = ['이용금액_업종기준', '이용금액_요식', '이용금액_교육', '여유_Pet이용금액', '이용금액_여행',\n",
    "                '이용금액_자차', '이용금액_대중교통', '이용금액_여가활동', '이용금액_일상생활_총합']\n",
    "labels_column = 'Cluster'\n",
    "\n",
    "# 필요한 데이터만 추출\n",
    "data = df[data_columns].values\n",
    "labels = df[labels_column].values\n",
    "\n",
    "# 데이터 표준화 (스케일링)\n",
    "scaler = StandardScaler()\n",
    "data_scaled = scaler.fit_transform(data)\n",
    "\n",
    "# 데이터를 torch tensor로 변환\n",
    "data_tensor = torch.tensor(data_scaled, dtype=torch.float32)\n",
    "labels_tensor = torch.tensor(labels, dtype=torch.long)\n",
    "\n",
    "# 배치 차원 추가 (batch_size, sequence_length, input_size)\n",
    "data_tensor = data_tensor.unsqueeze(1)  # 여기서는 1 타임스텝 시퀀스로 처리"
   ]
  },
  {
   "cell_type": "code",
   "execution_count": 11,
   "id": "654a3b67-731d-4efe-8926-a4215166d685",
   "metadata": {},
   "outputs": [],
   "source": [
    "# GRU 모델 정의\n",
    "class GRUModel(nn.Module):\n",
    "    def __init__(self, input_size, hidden_size, num_layers, output_size):\n",
    "        super(GRUModel, self).__init__()\n",
    "        self.hidden_size = hidden_size\n",
    "        self.num_layers = num_layers\n",
    "        self.gru = nn.GRU(input_size, hidden_size, num_layers, batch_first=True)\n",
    "        self.fc = nn.Linear(hidden_size, output_size)\n",
    "        self.relu = nn.ReLU()  # 활성화 함수 추가\n",
    "    \n",
    "    def forward(self, x):\n",
    "        out, _ = self.gru(x)\n",
    "        out = self.fc(out[:, -1, :])  # 마지막 타임스텝의 출력을 사용\n",
    "        return out"
   ]
  },
  {
   "cell_type": "code",
   "execution_count": 12,
   "id": "9975a00d-512f-434c-96fc-8231d42d8b8f",
   "metadata": {},
   "outputs": [],
   "source": [
    "# 2. FGSM 공격을 위한 함수 정의\n",
    "def fgsm_attack(data, epsilon, data_grad):\n",
    "    # 데이터의 기울기를 이용하여 epsilon 범위 내에서 변동을 줌\n",
    "    sign_data_grad = data_grad.sign()\n",
    "    perturbed_data = data + epsilon * sign_data_grad\n",
    "    return perturbed_data\n",
    "\n",
    "# 3. 손실 함수 및 평가 모드 설정\n",
    "criterion = nn.CrossEntropyLoss()\n",
    "epsilon = 0.01  # 적대적 변동 크기"
   ]
  },
  {
   "cell_type": "code",
   "execution_count": 13,
   "id": "345e5f8c-f7e7-4a85-82a3-fe87a231d79f",
   "metadata": {},
   "outputs": [],
   "source": [
    "# 4. 소비 데이터와 라벨을 불러오기 (예시로 더미 데이터 사용)\n",
    "# 여기서 data는 (배치 크기, 시퀀스 길이, 특성 수) 형식이어야 하며,\n",
    "# labels는 (배치 크기) 형식이어야 합니다.\n",
    "# 실제로는 데이터를 불러오거나 전처리하는 과정이 필요함\n",
    "data = torch.randn(32, 10, 9)  # 예시: 배치 크기 32, 시퀀스 길이 10, 특성 수 9\n",
    "labels = torch.randint(0, 25, (32,))  # 예시: 25개의 클래스 (랜덤한 라벨)"
   ]
  },
  {
   "cell_type": "code",
   "execution_count": 14,
   "id": "6c9d1f82-e28c-4e40-8848-a1bf4703c8a3",
   "metadata": {},
   "outputs": [
    {
     "data": {
      "text/plain": [
       "GRUModel(\n",
       "  (gru): GRU(9, 64, batch_first=True)\n",
       "  (fc): Linear(in_features=64, out_features=25, bias=True)\n",
       ")"
      ]
     },
     "execution_count": 14,
     "metadata": {},
     "output_type": "execute_result"
    }
   ],
   "source": [
    "# 5. 모델 초기화\n",
    "input_size = 9  # 사용한 컬럼 수\n",
    "hidden_size = 64\n",
    "num_layers = 1\n",
    "output_size = 25  # 출력 클래스 수\n",
    "\n",
    "# 모델 초기화 및 가중치 불러오기\n",
    "model = GRUModel(input_size, hidden_size, num_layers, output_size)\n",
    "model.load_state_dict(torch.load(r'C:\\Users\\csh16\\Desktop\\2024-2\\졸업프로젝트\\gru_model_weights.pth'))\n",
    "model.eval()  # 평가 모드로 전환"
   ]
  },
  {
   "cell_type": "code",
   "execution_count": 15,
   "id": "d0cd0744-6ef9-4292-94fd-c4221bde957c",
   "metadata": {},
   "outputs": [
    {
     "name": "stdout",
     "output_type": "stream",
     "text": [
      "Original Prediction:  tensor([12, 20, 18,  0, 19, 16, 22,  5, 17, 10, 11, 23, 23,  7,  9, 16,  6, 16,\n",
      "        15, 21,  1, 11, 20,  7, 10, 21,  8, 15,  3, 16, 23,  9])\n",
      "Adversarial Prediction:  tensor([[ 9],\n",
      "        [18],\n",
      "        [ 0],\n",
      "        [13],\n",
      "        [ 0],\n",
      "        [ 4],\n",
      "        [ 0],\n",
      "        [20],\n",
      "        [ 4],\n",
      "        [13],\n",
      "        [ 6],\n",
      "        [13],\n",
      "        [ 0],\n",
      "        [ 4],\n",
      "        [ 0],\n",
      "        [ 0],\n",
      "        [ 6],\n",
      "        [ 0],\n",
      "        [21],\n",
      "        [20],\n",
      "        [ 7],\n",
      "        [20],\n",
      "        [13],\n",
      "        [20],\n",
      "        [ 4],\n",
      "        [20],\n",
      "        [ 0],\n",
      "        [13],\n",
      "        [20],\n",
      "        [ 0],\n",
      "        [ 0],\n",
      "        [21]])\n"
     ]
    }
   ],
   "source": [
    "# 6. 적대적 예제 생성 및 실험\n",
    "data.requires_grad = True  # 입력 데이터에 대한 기울기 계산 활성화\n",
    "\n",
    "# 모델 예측\n",
    "output = model(data)\n",
    "loss = criterion(output, labels)\n",
    "\n",
    "# 역전파\n",
    "model.zero_grad()\n",
    "loss.backward()\n",
    "\n",
    "# 데이터 기울기 추출\n",
    "data_grad = data.grad.data\n",
    "\n",
    "# FGSM 공격 적용\n",
    "perturbed_data = fgsm_attack(data, epsilon, data_grad)\n",
    "\n",
    "# 적대적 예제의 예측 확인\n",
    "output_perturbed = model(perturbed_data)\n",
    "pred_perturbed = output_perturbed.argmax(dim=1, keepdim=True)\n",
    "\n",
    "# 결과 출력\n",
    "print(\"Original Prediction: \", labels)\n",
    "print(\"Adversarial Prediction: \", pred_perturbed)"
   ]
  },
  {
   "cell_type": "code",
   "execution_count": null,
   "id": "e1bef4e4-9417-4349-b846-c690c6185a6d",
   "metadata": {},
   "outputs": [],
   "source": []
  }
 ],
 "metadata": {
  "kernelspec": {
   "display_name": "Python 3 (ipykernel)",
   "language": "python",
   "name": "python3"
  },
  "language_info": {
   "codemirror_mode": {
    "name": "ipython",
    "version": 3
   },
   "file_extension": ".py",
   "mimetype": "text/x-python",
   "name": "python",
   "nbconvert_exporter": "python",
   "pygments_lexer": "ipython3",
   "version": "3.10.8"
  }
 },
 "nbformat": 4,
 "nbformat_minor": 5
}
